{
 "cells": [
  {
   "cell_type": "code",
   "execution_count": 1,
   "id": "4fa8b818-814d-4c45-bbc9-cbcfc3d69cdf",
   "metadata": {},
   "outputs": [],
   "source": [
    "name= 'we are learning problrm solving using computation'"
   ]
  },
  {
   "cell_type": "markdown",
   "id": "e4034470-9aa5-4cff-bc69-f50eda26e72a",
   "metadata": {},
   "source": [
    "name[10:-50:-1]"
   ]
  },
  {
   "cell_type": "code",
   "execution_count": 2,
   "id": "a5617336-e536-4488-9c8a-c432458abc3e",
   "metadata": {},
   "outputs": [
    {
     "data": {
      "text/plain": [
       "'rael era ew'"
      ]
     },
     "execution_count": 2,
     "metadata": {},
     "output_type": "execute_result"
    }
   ],
   "source": [
    "name[10:-50:-1]"
   ]
  },
  {
   "cell_type": "code",
   "execution_count": null,
   "id": "c1e10943-e17e-4db3-a2cc-5e22cbdf4311",
   "metadata": {},
   "outputs": [],
   "source": [
    "name= 'we are learning problrm solving using computation'\n"
   ]
  },
  {
   "cell_type": "code",
   "execution_count": 3,
   "id": "7fa7ebc2-efb6-43a7-a25a-1c6d75e97a44",
   "metadata": {},
   "outputs": [
    {
     "data": {
      "text/plain": [
       "'apcnunl lrgne'"
      ]
     },
     "execution_count": 3,
     "metadata": {},
     "output_type": "execute_result"
    }
   ],
   "source": [
    "name[-5:5:-3]"
   ]
  },
  {
   "cell_type": "code",
   "execution_count": 4,
   "id": "9ba0a06d-64f1-4bf7-bd89-fc34497750be",
   "metadata": {},
   "outputs": [],
   "source": [
    "name=\"ARNav MahAJaan\""
   ]
  },
  {
   "cell_type": "code",
   "execution_count": 7,
   "id": "6a14271a-f5f6-4ee4-9961-8ffff2fb98a8",
   "metadata": {},
   "outputs": [
    {
     "data": {
      "text/plain": [
       "'arnAV mAHajAAN'"
      ]
     },
     "execution_count": 7,
     "metadata": {},
     "output_type": "execute_result"
    }
   ],
   "source": [
    "name.swapcase()"
   ]
  },
  {
   "cell_type": "code",
   "execution_count": null,
   "id": "6fd5605c-d4b3-477e-9569-4cea151fefa3",
   "metadata": {},
   "outputs": [],
   "source": [
    "#task 2"
   ]
  },
  {
   "cell_type": "code",
   "execution_count": 8,
   "id": "b3c3eda6-879d-4be3-93ca-6a814415fb04",
   "metadata": {},
   "outputs": [],
   "source": [
    "name=name.swapcase()#manipulated data"
   ]
  },
  {
   "cell_type": "code",
   "execution_count": 9,
   "id": "45f06209-113a-422b-a237-adb82ca51252",
   "metadata": {},
   "outputs": [
    {
     "data": {
      "text/plain": [
       "'arnAV mAHajAAN'"
      ]
     },
     "execution_count": 9,
     "metadata": {},
     "output_type": "execute_result"
    }
   ],
   "source": [
    "name"
   ]
  },
  {
   "cell_type": "code",
   "execution_count": 11,
   "id": "e8987897-d603-4a4f-9512-66f0c2562775",
   "metadata": {},
   "outputs": [],
   "source": [
    "name=\"ARNav MahAJaan\"#renamed  again to original"
   ]
  },
  {
   "cell_type": "code",
   "execution_count": null,
   "id": "07d2c003-3d9d-4626-bf44-95c1b590087f",
   "metadata": {},
   "outputs": [],
   "source": [
    "#task3"
   ]
  },
  {
   "cell_type": "code",
   "execution_count": 18,
   "id": "ca6406b8-2007-42e3-93e0-da76e8cdbea5",
   "metadata": {},
   "outputs": [
    {
     "name": "stdout",
     "output_type": "stream",
     "text": [
      "A@R@N@a@v@ @M@a@h@A@J@a@a@n\n"
     ]
    }
   ],
   "source": [
    "print(\"@\".join(name))"
   ]
  },
  {
   "cell_type": "code",
   "execution_count": null,
   "id": "0aec6f56-1622-44fc-8bc1-2f3227644e45",
   "metadata": {},
   "outputs": [],
   "source": [
    "#task 4"
   ]
  },
  {
   "cell_type": "code",
   "execution_count": 19,
   "id": "fe44f457-54f9-40da-92b7-b3159a611d27",
   "metadata": {},
   "outputs": [],
   "source": [
    "a=536464453"
   ]
  },
  {
   "cell_type": "code",
   "execution_count": 21,
   "id": "125de08c-cee5-4521-89c7-5521d99bcb81",
   "metadata": {},
   "outputs": [
    {
     "data": {
      "text/plain": [
       "True"
      ]
     },
     "execution_count": 21,
     "metadata": {},
     "output_type": "execute_result"
    }
   ],
   "source": [
    "a.is_integer()"
   ]
  },
  {
   "cell_type": "code",
   "execution_count": 28,
   "id": "443f7674-f8ca-4cdd-b48c-29306ce60475",
   "metadata": {},
   "outputs": [],
   "source": [
    "name1=\"namokasture\""
   ]
  },
  {
   "cell_type": "code",
   "execution_count": 29,
   "id": "a3fb8f6c-433e-4447-b15f-f76f70253a64",
   "metadata": {},
   "outputs": [
    {
     "data": {
      "text/plain": [
       "True"
      ]
     },
     "execution_count": 29,
     "metadata": {},
     "output_type": "execute_result"
    }
   ],
   "source": [
    "name1.isalnum()"
   ]
  },
  {
   "cell_type": "code",
   "execution_count": 32,
   "id": "c21878b6-6261-46c5-b1ba-63e003df0159",
   "metadata": {},
   "outputs": [
    {
     "data": {
      "text/plain": [
       "True"
      ]
     },
     "execution_count": 32,
     "metadata": {},
     "output_type": "execute_result"
    }
   ],
   "source": [
    "name1.startswith('n')"
   ]
  },
  {
   "cell_type": "code",
   "execution_count": 35,
   "id": "86014dd1-1c0a-4803-aa4f-d841630b6ab3",
   "metadata": {},
   "outputs": [
    {
     "data": {
      "text/plain": [
       "'erutsakoman'"
      ]
     },
     "execution_count": 35,
     "metadata": {},
     "output_type": "execute_result"
    }
   ],
   "source": [
    "\"\".join(reversed(name1))"
   ]
  },
  {
   "cell_type": "code",
   "execution_count": null,
   "id": "d8efbeb5-d0be-4056-9c98-8d10c265cdba",
   "metadata": {},
   "outputs": [],
   "source": []
  },
  {
   "cell_type": "code",
   "execution_count": null,
   "id": "2df41ee5-abc9-45c3-ac67-e8620acffb0d",
   "metadata": {},
   "outputs": [],
   "source": []
  },
  {
   "cell_type": "code",
   "execution_count": null,
   "id": "d85c4b94-8f07-4331-9372-936e26151187",
   "metadata": {},
   "outputs": [],
   "source": []
  },
  {
   "cell_type": "code",
   "execution_count": null,
   "id": "bc263e0d-8995-44bd-a19d-0fd70332cc68",
   "metadata": {},
   "outputs": [],
   "source": []
  },
  {
   "cell_type": "code",
   "execution_count": null,
   "id": "c14bacaa-4dca-46c5-aadd-8fff0c21da4a",
   "metadata": {},
   "outputs": [],
   "source": []
  },
  {
   "cell_type": "code",
   "execution_count": null,
   "id": "24b58c20-cd73-434d-9101-d3347ada14f3",
   "metadata": {},
   "outputs": [],
   "source": []
  },
  {
   "cell_type": "code",
   "execution_count": null,
   "id": "2d733578-6489-47f9-916a-efb169e0d6b7",
   "metadata": {},
   "outputs": [],
   "source": []
  },
  {
   "cell_type": "code",
   "execution_count": null,
   "id": "a68227aa-203f-4d02-875e-2cf118238aa8",
   "metadata": {},
   "outputs": [],
   "source": []
  }
 ],
 "metadata": {
  "kernelspec": {
   "display_name": "Python 3 (ipykernel)",
   "language": "python",
   "name": "python3"
  },
  "language_info": {
   "codemirror_mode": {
    "name": "ipython",
    "version": 3
   },
   "file_extension": ".py",
   "mimetype": "text/x-python",
   "name": "python",
   "nbconvert_exporter": "python",
   "pygments_lexer": "ipython3",
   "version": "3.12.4"
  }
 },
 "nbformat": 4,
 "nbformat_minor": 5
}
