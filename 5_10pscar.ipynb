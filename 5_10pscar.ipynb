{
 "cells": [
  {
   "cell_type": "code",
   "execution_count": 3,
   "id": "94ea5627-dd17-4592-8abf-df94bce9a3b4",
   "metadata": {},
   "outputs": [],
   "source": [
    "s=\"this is My First Python programming class and i am learNING python string and its function\""
   ]
  },
  {
   "cell_type": "code",
   "execution_count": null,
   "id": "bce2d6dd-4952-4a51-b0ff-58464b6af707",
   "metadata": {},
   "outputs": [],
   "source": [
    "#q1"
   ]
  },
  {
   "cell_type": "code",
   "execution_count": 41,
   "id": "b2a921e6-b705-4a91-9a70-0ccf47d26ca8",
   "metadata": {},
   "outputs": [
    {
     "data": {
      "text/plain": [
       "'h   r tnrrmglsnimeNGyosi dtfco'"
      ]
     },
     "execution_count": 41,
     "metadata": {},
     "output_type": "execute_result"
    }
   ],
   "source": [
    "s[1:301:3]"
   ]
  },
  {
   "cell_type": "markdown",
   "id": "e91fc94a-59e5-4677-bc21-3d91ef7e7f34",
   "metadata": {},
   "source": [
    "# 2.Question"
   ]
  },
  {
   "cell_type": "code",
   "execution_count": 40,
   "id": "a586dd80-0475-400c-b399-17c30a59d463",
   "metadata": {},
   "outputs": [
    {
     "data": {
      "text/plain": [
       "'noitcnuf sti dna gnirts nohtyp GNINrael ma i dna ssalc gnimmargorp nohtyP tsriF yM si siht'"
      ]
     },
     "execution_count": 40,
     "metadata": {},
     "output_type": "execute_result"
    }
   ],
   "source": [
    "s[::-1]"
   ]
  },
  {
   "cell_type": "code",
   "execution_count": null,
   "id": "43142d10-cb6c-4cba-9f76-0d9db47b73ae",
   "metadata": {},
   "outputs": [],
   "source": [
    "#Q3"
   ]
  },
  {
   "cell_type": "code",
   "execution_count": 4,
   "id": "0b5beec5-b0ef-4a76-9d62-5e0b1fefaaa9",
   "metadata": {},
   "outputs": [
    {
     "data": {
      "text/plain": [
       "['THIS',\n",
       " 'IS',\n",
       " 'MY',\n",
       " 'FIRST',\n",
       " 'PYTHON',\n",
       " 'PROGRAMMING',\n",
       " 'CLASS',\n",
       " 'AND',\n",
       " 'I',\n",
       " 'AM',\n",
       " 'LEARNING',\n",
       " 'PYTHON',\n",
       " 'STRING',\n",
       " 'AND',\n",
       " 'ITS',\n",
       " 'FUNCTION']"
      ]
     },
     "execution_count": 4,
     "metadata": {},
     "output_type": "execute_result"
    }
   ],
   "source": [
    "s.upper().split()"
   ]
  },
  {
   "cell_type": "code",
   "execution_count": null,
   "id": "71302696-5bb9-424b-b061-d08fd15656e3",
   "metadata": {},
   "outputs": [],
   "source": [
    "#method 2 "
   ]
  },
  {
   "cell_type": "code",
   "execution_count": null,
   "id": "d5a0a2b7-e282-4981-88b8-b2f27f46c28b",
   "metadata": {},
   "outputs": [],
   "source": [
    "s1=s.upper()"
   ]
  },
  {
   "cell_type": "code",
   "execution_count": null,
   "id": "55d0cafb-3988-430f-9cfa-74ccca9d9210",
   "metadata": {},
   "outputs": [],
   "source": [
    "#Q4"
   ]
  },
  {
   "cell_type": "code",
   "execution_count": 19,
   "id": "b2ec765e-354c-4a04-aafc-68a6c1f7b5ce",
   "metadata": {},
   "outputs": [
    {
     "data": {
      "text/plain": [
       "'this is my first python programming class and i am learning  python string and its function  '"
      ]
     },
     "execution_count": 19,
     "metadata": {},
     "output_type": "execute_result"
    }
   ],
   "source": [
    "s.lower()"
   ]
  },
  {
   "cell_type": "code",
   "execution_count": null,
   "id": "50614a8d-663e-4881-a26f-ee75b33f7fcc",
   "metadata": {},
   "outputs": [],
   "source": [
    "#Q5"
   ]
  },
  {
   "cell_type": "code",
   "execution_count": 21,
   "id": "2ce4d10c-94ec-4142-b381-566b1b53e62b",
   "metadata": {},
   "outputs": [
    {
     "data": {
      "text/plain": [
       "'This is my first python programming class and i am learning  python string and its function  '"
      ]
     },
     "execution_count": 21,
     "metadata": {},
     "output_type": "execute_result"
    }
   ],
   "source": [
    "s.capitalize()"
   ]
  },
  {
   "cell_type": "code",
   "execution_count": null,
   "id": "f5cb2b60-1018-4f48-90e1-5e611afdc23c",
   "metadata": {},
   "outputs": [],
   "source": [
    "#Q6"
   ]
  },
  {
   "cell_type": "code",
   "execution_count": null,
   "id": "00490478-47a1-4b5f-b43e-42a4f010ce31",
   "metadata": {},
   "outputs": [],
   "source": [
    "#The isalpha() method gives True if all the characters in the string are alphabets  and the isalnum() method gives True if all the characters in the string are either alphabet or numbers. "
   ]
  },
  {
   "cell_type": "code",
   "execution_count": null,
   "id": "a1d875fd-f663-4f40-a4ce-e70bbb677495",
   "metadata": {},
   "outputs": [],
   "source": [
    "#for example"
   ]
  },
  {
   "cell_type": "code",
   "execution_count": 9,
   "id": "04f77957-4a0d-49aa-969e-9aaff2e587be",
   "metadata": {},
   "outputs": [],
   "source": [
    "test=\"bsbfgbvs\"\n",
    "test1=\"ev45#$%%y4v\""
   ]
  },
  {
   "cell_type": "code",
   "execution_count": 23,
   "id": "7f656425-1b87-4808-a325-dec1f64a1943",
   "metadata": {},
   "outputs": [
    {
     "data": {
      "text/plain": [
       "True"
      ]
     },
     "execution_count": 23,
     "metadata": {},
     "output_type": "execute_result"
    }
   ],
   "source": [
    "test.isalpha()"
   ]
  },
  {
   "cell_type": "code",
   "execution_count": 7,
   "id": "3f038159-1e0c-4765-b45c-7939fea00139",
   "metadata": {},
   "outputs": [
    {
     "data": {
      "text/plain": [
       "True"
      ]
     },
     "execution_count": 7,
     "metadata": {},
     "output_type": "execute_result"
    }
   ],
   "source": [
    "test.isalpha()"
   ]
  },
  {
   "cell_type": "code",
   "execution_count": 27,
   "id": "b009dd62-9f29-41b8-abdb-04e0c57c28b5",
   "metadata": {},
   "outputs": [
    {
     "data": {
      "text/plain": [
       "False"
      ]
     },
     "execution_count": 27,
     "metadata": {},
     "output_type": "execute_result"
    }
   ],
   "source": [
    "test1.isalpha()"
   ]
  },
  {
   "cell_type": "code",
   "execution_count": 10,
   "id": "1e9c8163-237b-443d-97af-fad96a2e9527",
   "metadata": {},
   "outputs": [
    {
     "data": {
      "text/plain": [
       "False"
      ]
     },
     "execution_count": 10,
     "metadata": {},
     "output_type": "execute_result"
    }
   ],
   "source": [
    "test1.isalnum()"
   ]
  },
  {
   "cell_type": "markdown",
   "id": "7d645707-17b9-4025-ac6f-eacc441882c0",
   "metadata": {},
   "source": [
    "# 7Question"
   ]
  },
  {
   "cell_type": "code",
   "execution_count": 11,
   "id": "2a8e4126-68f6-4d34-8302-692a9d8ce72d",
   "metadata": {},
   "outputs": [],
   "source": [
    "s2=\"this\\tis\\ta\\texample\""
   ]
  },
  {
   "cell_type": "code",
   "execution_count": 12,
   "id": "3d5d2839-6de2-4c97-b735-c67c75e4c1db",
   "metadata": {},
   "outputs": [
    {
     "data": {
      "text/plain": [
       "'this    is      a       example'"
      ]
     },
     "execution_count": 12,
     "metadata": {},
     "output_type": "execute_result"
    }
   ],
   "source": [
    "s2.expandtabs()"
   ]
  },
  {
   "cell_type": "markdown",
   "id": "60470861-a80d-4b37-8786-3e23b1a418e1",
   "metadata": {},
   "source": [
    "# 8Question"
   ]
  },
  {
   "cell_type": "code",
   "execution_count": 15,
   "id": "d28de0c5-e32a-4b4b-95f4-1ad011f81437",
   "metadata": {},
   "outputs": [],
   "source": [
    "stexp=\"       34grgrg556beh565htf           \""
   ]
  },
  {
   "cell_type": "code",
   "execution_count": null,
   "id": "5435a5e4-9ada-48a5-a00e-dc902872020d",
   "metadata": {},
   "outputs": [],
   "source": [
    "#for strip"
   ]
  },
  {
   "cell_type": "code",
   "execution_count": 16,
   "id": "ab212fe2-21a8-4913-8881-0262a0fe14ec",
   "metadata": {},
   "outputs": [
    {
     "data": {
      "text/plain": [
       "'34grgrg556beh565htf'"
      ]
     },
     "execution_count": 16,
     "metadata": {},
     "output_type": "execute_result"
    }
   ],
   "source": [
    "stexp.strip()"
   ]
  },
  {
   "cell_type": "code",
   "execution_count": 17,
   "id": "79bdf98f-c7e6-4722-b114-3f77f540313e",
   "metadata": {},
   "outputs": [
    {
     "data": {
      "text/plain": [
       "'34grgrg556beh565htf           '"
      ]
     },
     "execution_count": 17,
     "metadata": {},
     "output_type": "execute_result"
    }
   ],
   "source": [
    "stexp.lstrip()"
   ]
  },
  {
   "cell_type": "code",
   "execution_count": 18,
   "id": "2caa82ce-69d2-4e92-b746-605b784a9559",
   "metadata": {},
   "outputs": [
    {
     "data": {
      "text/plain": [
       "'       34grgrg556beh565htf'"
      ]
     },
     "execution_count": 18,
     "metadata": {},
     "output_type": "execute_result"
    }
   ],
   "source": [
    "stexp.rstrip()"
   ]
  },
  {
   "cell_type": "code",
   "execution_count": null,
   "id": "8b25fc7e-63a8-4a38-a9c2-6b8aa8baa611",
   "metadata": {},
   "outputs": [],
   "source": []
  },
  {
   "cell_type": "markdown",
   "id": "e9a833ec-f018-42d5-8d3a-e70d8139906b",
   "metadata": {},
   "source": [
    "# 9 Question"
   ]
  },
  {
   "cell_type": "code",
   "execution_count": 28,
   "id": "76e652ed-1874-45a8-9d50-b4631c3aae2a",
   "metadata": {},
   "outputs": [],
   "source": [
    "string=\"mango is a fruit\""
   ]
  },
  {
   "cell_type": "code",
   "execution_count": 31,
   "id": "c7cd9b42-b2ff-4a7b-9bf5-10e7cd6a23f1",
   "metadata": {},
   "outputs": [
    {
     "data": {
      "text/plain": [
       "'watermelon is a fruit'"
      ]
     },
     "execution_count": 31,
     "metadata": {},
     "output_type": "execute_result"
    }
   ],
   "source": [
    "string.replace(\"mango\",\"watermelon\")"
   ]
  },
  {
   "cell_type": "code",
   "execution_count": null,
   "id": "00982a72-c7f8-47e7-b807-825e636d5d9f",
   "metadata": {},
   "outputs": [],
   "source": []
  },
  {
   "cell_type": "code",
   "execution_count": null,
   "id": "c9b2ac6c-ccf6-440d-ab42-75a5dda377cf",
   "metadata": {},
   "outputs": [],
   "source": []
  }
 ],
 "metadata": {
  "kernelspec": {
   "display_name": "Python 3 (ipykernel)",
   "language": "python",
   "name": "python3"
  },
  "language_info": {
   "codemirror_mode": {
    "name": "ipython",
    "version": 3
   },
   "file_extension": ".py",
   "mimetype": "text/x-python",
   "name": "python",
   "nbconvert_exporter": "python",
   "pygments_lexer": "ipython3",
   "version": "3.12.4"
  }
 },
 "nbformat": 4,
 "nbformat_minor": 5
}
