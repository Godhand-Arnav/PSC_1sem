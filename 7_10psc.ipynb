{
 "cells": [
  {
   "cell_type": "code",
   "execution_count": 4,
   "id": "9be797a9-92f8-4892-8147-303478d894be",
   "metadata": {},
   "outputs": [
    {
     "ename": "SyntaxError",
     "evalue": "cannot assign to literal here. Maybe you meant '==' instead of '='? (2283992021.py, line 1)",
     "output_type": "error",
     "traceback": [
      "\u001b[0;36m  Cell \u001b[0;32mIn[4], line 1\u001b[0;36m\u001b[0m\n\u001b[0;31m    50=\"ffg\"\u001b[0m\n\u001b[0m    ^\u001b[0m\n\u001b[0;31mSyntaxError\u001b[0m\u001b[0;31m:\u001b[0m cannot assign to literal here. Maybe you meant '==' instead of '='?\n"
     ]
    }
   ],
   "source": [
    "50=\"ffg\""
   ]
  },
  {
   "cell_type": "code",
   "execution_count": 6,
   "id": "11202216-69d1-476b-92fe-00fdfbbf0d73",
   "metadata": {},
   "outputs": [],
   "source": [
    "a=5"
   ]
  },
  {
   "cell_type": "code",
   "execution_count": 7,
   "id": "6aa78349-4d12-4839-a39b-3874b6d5b8a4",
   "metadata": {},
   "outputs": [
    {
     "data": {
      "text/plain": [
       "5"
      ]
     },
     "execution_count": 7,
     "metadata": {},
     "output_type": "execute_result"
    }
   ],
   "source": [
    "a"
   ]
  },
  {
   "cell_type": "code",
   "execution_count": 12,
   "id": "5e8e1c37-11ae-4911-ad97-35ec81be2d96",
   "metadata": {},
   "outputs": [
    {
     "ename": "SyntaxError",
     "evalue": "cannot assign to expression here. Maybe you meant '==' instead of '='? (1989655824.py, line 1)",
     "output_type": "error",
     "traceback": [
      "\u001b[0;36m  Cell \u001b[0;32mIn[12], line 1\u001b[0;36m\u001b[0m\n\u001b[0;31m    rol-l_no_54 = \"arnav\"\u001b[0m\n\u001b[0m    ^\u001b[0m\n\u001b[0;31mSyntaxError\u001b[0m\u001b[0;31m:\u001b[0m cannot assign to expression here. Maybe you meant '==' instead of '='?\n"
     ]
    }
   ],
   "source": [
    "rol-l_no_54 = \"arnav\""
   ]
  },
  {
   "cell_type": "raw",
   "id": "0a711828-08b8-4e00-be47-71a86cb18e16",
   "metadata": {},
   "source": []
  },
  {
   "cell_type": "code",
   "execution_count": 10,
   "id": "54e54fe6-f7cd-4a02-be8c-ac9d0c93fc4c",
   "metadata": {},
   "outputs": [
    {
     "ename": "SyntaxError",
     "evalue": "cannot assign to True (2198873114.py, line 1)",
     "output_type": "error",
     "traceback": [
      "\u001b[0;36m  Cell \u001b[0;32mIn[10], line 1\u001b[0;36m\u001b[0m\n\u001b[0;31m    True = \"arnav\"\u001b[0m\n\u001b[0m    ^\u001b[0m\n\u001b[0;31mSyntaxError\u001b[0m\u001b[0;31m:\u001b[0m cannot assign to True\n"
     ]
    }
   ],
   "source": [
    "True = \"arnav\""
   ]
  },
  {
   "cell_type": "code",
   "execution_count": 13,
   "id": "38937b60-8ebd-4146-a090-8c290296037c",
   "metadata": {},
   "outputs": [],
   "source": [
    "Age=30"
   ]
  },
  {
   "cell_type": "code",
   "execution_count": 15,
   "id": "443df59e-ea5c-4795-a515-515e4e7fc59e",
   "metadata": {},
   "outputs": [],
   "source": [
    "age=12"
   ]
  },
  {
   "cell_type": "code",
   "execution_count": 16,
   "id": "38f6d10e-a249-4915-bc2e-e1cea6838c63",
   "metadata": {},
   "outputs": [
    {
     "data": {
      "text/plain": [
       "12"
      ]
     },
     "execution_count": 16,
     "metadata": {},
     "output_type": "execute_result"
    }
   ],
   "source": [
    "age"
   ]
  },
  {
   "cell_type": "code",
   "execution_count": 17,
   "id": "01ed5862-2235-4db0-9459-84e7a9f17a30",
   "metadata": {},
   "outputs": [
    {
     "data": {
      "text/plain": [
       "30"
      ]
     },
     "execution_count": 17,
     "metadata": {},
     "output_type": "execute_result"
    }
   ],
   "source": [
    "Age"
   ]
  },
  {
   "cell_type": "code",
   "execution_count": 18,
   "id": "04bc9961-734e-474e-87e0-1c38c2ffdc96",
   "metadata": {},
   "outputs": [
    {
     "ename": "SyntaxError",
     "evalue": "invalid decimal literal (2130296063.py, line 1)",
     "output_type": "error",
     "traceback": [
      "\u001b[0;36m  Cell \u001b[0;32mIn[18], line 1\u001b[0;36m\u001b[0m\n\u001b[0;31m    23name=\"arnav\"\u001b[0m\n\u001b[0m     ^\u001b[0m\n\u001b[0;31mSyntaxError\u001b[0m\u001b[0;31m:\u001b[0m invalid decimal literal\n"
     ]
    }
   ],
   "source": [
    "23name=\"arnav\""
   ]
  },
  {
   "cell_type": "code",
   "execution_count": 20,
   "id": "ed10631e-a1c1-4e46-84ea-be3ce897e13f",
   "metadata": {},
   "outputs": [],
   "source": [
    "name23=\"arnav\""
   ]
  },
  {
   "cell_type": "code",
   "execution_count": 26,
   "id": "325bd9a0-2cdf-423b-bf41-336a9817475b",
   "metadata": {},
   "outputs": [
    {
     "ename": "ValueError",
     "evalue": "not enough values to unpack (expected 3, got 2)",
     "output_type": "error",
     "traceback": [
      "\u001b[0;31m---------------------------------------------------------------------------\u001b[0m",
      "\u001b[0;31mValueError\u001b[0m                                Traceback (most recent call last)",
      "Cell \u001b[0;32mIn[26], line 1\u001b[0m\n\u001b[0;32m----> 1\u001b[0m a,b,c\u001b[38;5;241m=\u001b[39m\u001b[38;5;241m23\u001b[39m,\u001b[38;5;241m3\u001b[39m,\n",
      "\u001b[0;31mValueError\u001b[0m: not enough values to unpack (expected 3, got 2)"
     ]
    }
   ],
   "source": [
    "a,b,c=23,3,"
   ]
  },
  {
   "cell_type": "code",
   "execution_count": 32,
   "id": "133270b7-7cf1-4f60-a6e5-f08e58e83569",
   "metadata": {},
   "outputs": [],
   "source": [
    "c=34"
   ]
  },
  {
   "cell_type": "code",
   "execution_count": 22,
   "id": "094c0f58-b436-4467-9d6b-0e92e5adf3f3",
   "metadata": {},
   "outputs": [
    {
     "data": {
      "text/plain": [
       "23"
      ]
     },
     "execution_count": 22,
     "metadata": {},
     "output_type": "execute_result"
    }
   ],
   "source": [
    "a"
   ]
  },
  {
   "cell_type": "code",
   "execution_count": 23,
   "id": "ee5d1600-53a6-44d6-8dc0-b26833b5730b",
   "metadata": {},
   "outputs": [
    {
     "data": {
      "text/plain": [
       "3"
      ]
     },
     "execution_count": 23,
     "metadata": {},
     "output_type": "execute_result"
    }
   ],
   "source": [
    "b"
   ]
  },
  {
   "cell_type": "code",
   "execution_count": 27,
   "id": "763f58a3-c6d0-4041-a41c-5c2654d124d7",
   "metadata": {},
   "outputs": [
    {
     "name": "stdout",
     "output_type": "stream",
     "text": [
      "23\n",
      "a\n"
     ]
    }
   ],
   "source": [
    "print(a)\n",
    "print(\"a\")"
   ]
  },
  {
   "cell_type": "code",
   "execution_count": 35,
   "id": "67bb70e6-b084-4637-aebc-6d7103f049e6",
   "metadata": {},
   "outputs": [
    {
     "name": "stdout",
     "output_type": "stream",
     "text": [
      "23#3#34\n"
     ]
    }
   ],
   "source": [
    "print(a,b,c ,sep=\"#\")"
   ]
  },
  {
   "cell_type": "code",
   "execution_count": 36,
   "id": "59826769-9308-43f5-bc4e-db87a0a32b72",
   "metadata": {},
   "outputs": [
    {
     "name": "stdout",
     "output_type": "stream",
     "text": [
      "23, 3, 34\n"
     ]
    }
   ],
   "source": [
    "print(a,b,c ,sep=\", \")"
   ]
  },
  {
   "cell_type": "code",
   "execution_count": 37,
   "id": "9bddc2b6-2d3d-445f-bdd9-f0a6043252ee",
   "metadata": {},
   "outputs": [],
   "source": [
    "name1='arnav mahajan'"
   ]
  },
  {
   "cell_type": "code",
   "execution_count": 38,
   "id": "53e6cd23-f741-4f0a-9545-a2f23aee5c9b",
   "metadata": {},
   "outputs": [
    {
     "data": {
      "text/plain": [
       "str"
      ]
     },
     "execution_count": 38,
     "metadata": {},
     "output_type": "execute_result"
    }
   ],
   "source": [
    "type(name1)"
   ]
  },
  {
   "cell_type": "code",
   "execution_count": 39,
   "id": "2f62e566-1b25-460e-a408-a7d525b855b1",
   "metadata": {},
   "outputs": [],
   "source": [
    "name=\"\"\"gg\"\"\""
   ]
  },
  {
   "cell_type": "code",
   "execution_count": 40,
   "id": "b8de2537-22a0-436a-869f-35fca9b5598f",
   "metadata": {},
   "outputs": [
    {
     "data": {
      "text/plain": [
       "'gg'"
      ]
     },
     "execution_count": 40,
     "metadata": {},
     "output_type": "execute_result"
    }
   ],
   "source": [
    "name"
   ]
  },
  {
   "cell_type": "code",
   "execution_count": 41,
   "id": "9de32afd-067c-453a-a571-72511fa54d2a",
   "metadata": {},
   "outputs": [
    {
     "ename": "SyntaxError",
     "evalue": "invalid syntax (283783550.py, line 1)",
     "output_type": "error",
     "traceback": [
      "\u001b[0;36m  Cell \u001b[0;32mIn[41], line 1\u001b[0;36m\u001b[0m\n\u001b[0;31m    name=\"\"gg\"\"\u001b[0m\n\u001b[0m           ^\u001b[0m\n\u001b[0;31mSyntaxError\u001b[0m\u001b[0;31m:\u001b[0m invalid syntax\n"
     ]
    }
   ],
   "source": [
    "name=\"\"gg\"\""
   ]
  },
  {
   "cell_type": "code",
   "execution_count": 42,
   "id": "b49021af-4dcd-49cb-beb5-0964605661dc",
   "metadata": {},
   "outputs": [
    {
     "ename": "SyntaxError",
     "evalue": "unterminated string literal (detected at line 1) (2580806449.py, line 1)",
     "output_type": "error",
     "traceback": [
      "\u001b[0;36m  Cell \u001b[0;32mIn[42], line 1\u001b[0;36m\u001b[0m\n\u001b[0;31m    name=\"\"\"\"gg\"\"\"\"\u001b[0m\n\u001b[0m                  ^\u001b[0m\n\u001b[0;31mSyntaxError\u001b[0m\u001b[0;31m:\u001b[0m unterminated string literal (detected at line 1)\n"
     ]
    }
   ],
   "source": [
    "name=\"\"\"\"gg\"\"\"\""
   ]
  },
  {
   "cell_type": "code",
   "execution_count": 43,
   "id": "d59ce8f4-818a-4253-b470-ee6b405d3645",
   "metadata": {},
   "outputs": [],
   "source": [
    "name=\"\"\"\"\"gg\"\"\"\"\""
   ]
  },
  {
   "cell_type": "code",
   "execution_count": 44,
   "id": "458f4fad-fdd3-4af8-bff2-701ae93e2958",
   "metadata": {},
   "outputs": [
    {
     "data": {
      "text/plain": [
       "'\"\"gg'"
      ]
     },
     "execution_count": 44,
     "metadata": {},
     "output_type": "execute_result"
    }
   ],
   "source": [
    "name"
   ]
  },
  {
   "cell_type": "code",
   "execution_count": 45,
   "id": "8b7a9d71-cb69-4f90-9889-6b126dd1e81d",
   "metadata": {},
   "outputs": [],
   "source": [
    "name='''arnav'''"
   ]
  },
  {
   "cell_type": "code",
   "execution_count": 46,
   "id": "558803bc-fe3a-458f-a9e9-acd4444d7a4b",
   "metadata": {},
   "outputs": [
    {
     "data": {
      "text/plain": [
       "'arnav'"
      ]
     },
     "execution_count": 46,
     "metadata": {},
     "output_type": "execute_result"
    }
   ],
   "source": [
    "name"
   ]
  },
  {
   "cell_type": "code",
   "execution_count": null,
   "id": "48229b2d-bf71-473b-9a99-81628043ccf9",
   "metadata": {},
   "outputs": [],
   "source": [
    "# singe quote in string is allowed\n",
    "# double quote in string is allowed\n",
    "\n"
   ]
  },
  {
   "cell_type": "code",
   "execution_count": 47,
   "id": "334f13d4-5d96-4835-8172-6dccd338f0d8",
   "metadata": {},
   "outputs": [
    {
     "name": "stdout",
     "output_type": "stream",
     "text": [
      "namokar kasture\n"
     ]
    }
   ],
   "source": [
    "print(\"namokar kasture\")"
   ]
  },
  {
   "cell_type": "code",
   "execution_count": 48,
   "id": "f5730dc4-6d77-4ccc-85bb-efacb39f850f",
   "metadata": {},
   "outputs": [
    {
     "ename": "SyntaxError",
     "evalue": "unterminated string literal (detected at line 1) (869660929.py, line 1)",
     "output_type": "error",
     "traceback": [
      "\u001b[0;36m  Cell \u001b[0;32mIn[48], line 1\u001b[0;36m\u001b[0m\n\u001b[0;31m    print(\"namoka\u001b[0m\n\u001b[0m          ^\u001b[0m\n\u001b[0;31mSyntaxError\u001b[0m\u001b[0;31m:\u001b[0m unterminated string literal (detected at line 1)\n"
     ]
    }
   ],
   "source": [
    "print(\"namoka\n",
    "r kasture\")"
   ]
  },
  {
   "cell_type": "code",
   "execution_count": 50,
   "id": "9f3028ff-1635-4ec8-a931-9194d5b21d90",
   "metadata": {},
   "outputs": [
    {
     "name": "stdout",
     "output_type": "stream",
     "text": [
      "namokar  kajature\tnamokar  kasture\t"
     ]
    }
   ],
   "source": [
    "print(\"namokar  kajature\" , end='\\t')\n",
    "print(\"namokar  kasture\" , end='\\t')"
   ]
  },
  {
   "cell_type": "code",
   "execution_count": null,
   "id": "891023d5-8d65-4f02-ba91-b919bb8d5ac8",
   "metadata": {},
   "outputs": [],
   "source": []
  }
 ],
 "metadata": {
  "kernelspec": {
   "display_name": "Python 3 (ipykernel)",
   "language": "python",
   "name": "python3"
  },
  "language_info": {
   "codemirror_mode": {
    "name": "ipython",
    "version": 3
   },
   "file_extension": ".py",
   "mimetype": "text/x-python",
   "name": "python",
   "nbconvert_exporter": "python",
   "pygments_lexer": "ipython3",
   "version": "3.12.4"
  }
 },
 "nbformat": 4,
 "nbformat_minor": 5
}
